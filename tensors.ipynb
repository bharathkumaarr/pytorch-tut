{
  "nbformat": 4,
  "nbformat_minor": 0,
  "metadata": {
    "colab": {
      "provenance": [],
      "authorship_tag": "ABX9TyM/1unHAdPPsvyiMCHZl2R4",
      "include_colab_link": true
    },
    "kernelspec": {
      "name": "python3",
      "display_name": "Python 3"
    },
    "language_info": {
      "name": "python"
    }
  },
  "cells": [
    {
      "cell_type": "markdown",
      "metadata": {
        "id": "view-in-github",
        "colab_type": "text"
      },
      "source": [
        "<a href=\"https://colab.research.google.com/github/bharathkumaarr/pytorch-tut/blob/master/tensors.ipynb\" target=\"_parent\"><img src=\"https://colab.research.google.com/assets/colab-badge.svg\" alt=\"Open In Colab\"/></a>"
      ]
    },
    {
      "cell_type": "markdown",
      "source": [
        "**TENSOR** is just another array, or a numpy array. just like lists but more powerful. tensors are used in deep learning.\n",
        "\n",
        "default datatype is float32\n",
        "\n"
      ],
      "metadata": {
        "id": "vmlLmFEo3jMH"
      }
    },
    {
      "cell_type": "code",
      "execution_count": 1,
      "metadata": {
        "id": "j484tIiO3d8F"
      },
      "outputs": [],
      "source": [
        "import torch\n",
        "import numpy as np"
      ]
    },
    {
      "cell_type": "markdown",
      "source": [
        "**LISTS**"
      ],
      "metadata": {
        "id": "aCPYn_8F480j"
      }
    },
    {
      "cell_type": "code",
      "source": [
        "my_list = [1,2,3,4]\n",
        "my_list2 = [[1,2,3], [3,3,4]] #multi-dimensional\n",
        "\n",
        "print(my_list)\n",
        "print(my_list2)"
      ],
      "metadata": {
        "colab": {
          "base_uri": "https://localhost:8080/"
        },
        "id": "ZdbtIr_746GG",
        "outputId": "916eb1ea-4e80-40b0-8bc1-afd31b266fad"
      },
      "execution_count": 4,
      "outputs": [
        {
          "output_type": "stream",
          "name": "stdout",
          "text": [
            "[1, 2, 3, 4]\n",
            "[[1, 2, 3], [3, 3, 4]]\n"
          ]
        }
      ]
    },
    {
      "cell_type": "markdown",
      "source": [
        "**NUMPY ARRAYS**"
      ],
      "metadata": {
        "id": "1zPm4SiL5aXR"
      }
    },
    {
      "cell_type": "code",
      "source": [
        "np1 = np.random.rand(3,4)\n",
        "np1"
      ],
      "metadata": {
        "colab": {
          "base_uri": "https://localhost:8080/"
        },
        "id": "ecfrsiUt5FD0",
        "outputId": "39eeb21f-ecb6-4ff0-beff-b77fd31daa32"
      },
      "execution_count": 8,
      "outputs": [
        {
          "output_type": "execute_result",
          "data": {
            "text/plain": [
              "array([[0.30422007, 0.99564639, 0.56636487, 0.1157195 ],\n",
              "       [0.70942354, 0.60448068, 0.11368609, 0.86444003],\n",
              "       [0.10001585, 0.54362769, 0.85542166, 0.87842345]])"
            ]
          },
          "metadata": {},
          "execution_count": 8
        }
      ]
    },
    {
      "cell_type": "code",
      "source": [
        "np1.dtype"
      ],
      "metadata": {
        "colab": {
          "base_uri": "https://localhost:8080/"
        },
        "id": "cILwNowI78Ca",
        "outputId": "6e191ccb-185d-4b8c-b1ca-1bf9c3bae939"
      },
      "execution_count": 9,
      "outputs": [
        {
          "output_type": "execute_result",
          "data": {
            "text/plain": [
              "dtype('float64')"
            ]
          },
          "metadata": {},
          "execution_count": 9
        }
      ]
    },
    {
      "cell_type": "code",
      "source": [
        "tensor_2d = torch.randn(3,4)\n",
        "print(tensor_2d)"
      ],
      "metadata": {
        "colab": {
          "base_uri": "https://localhost:8080/"
        },
        "id": "XHqTxREF8EiU",
        "outputId": "990e2f82-6f78-4fe4-9976-435eb395dbe0"
      },
      "execution_count": 12,
      "outputs": [
        {
          "output_type": "stream",
          "name": "stdout",
          "text": [
            "tensor([[-0.8601,  0.1651,  0.9087,  0.7101],\n",
            "        [ 0.4685,  1.6111, -1.2078, -1.8143],\n",
            "        [ 0.9351, -0.3987,  1.8462,  0.2739]])\n"
          ]
        }
      ]
    },
    {
      "cell_type": "code",
      "source": [
        "tensor_2d.dtype"
      ],
      "metadata": {
        "colab": {
          "base_uri": "https://localhost:8080/"
        },
        "id": "-yEBWkgW8M5o",
        "outputId": "446ba359-8e51-4d26-a42b-c1c52ee02845"
      },
      "execution_count": 13,
      "outputs": [
        {
          "output_type": "execute_result",
          "data": {
            "text/plain": [
              "torch.float32"
            ]
          },
          "metadata": {},
          "execution_count": 13
        }
      ]
    },
    {
      "cell_type": "code",
      "source": [
        "tensor_3d = torch.randn(2,3,4)\n",
        "tensor_3d"
      ],
      "metadata": {
        "colab": {
          "base_uri": "https://localhost:8080/"
        },
        "id": "-9fZxO4r8se6",
        "outputId": "1ba9c987-6852-458b-93cf-704af3b5f5d9"
      },
      "execution_count": 14,
      "outputs": [
        {
          "output_type": "execute_result",
          "data": {
            "text/plain": [
              "tensor([[[ 2.1520,  2.2312, -0.5475,  1.1302],\n",
              "         [-0.8485,  0.4062, -0.3727, -0.3444],\n",
              "         [ 0.6571, -1.4817, -2.2921,  0.3877]],\n",
              "\n",
              "        [[ 0.7258,  0.2786,  0.3474,  0.0911],\n",
              "         [-0.5667,  1.7847, -0.0674, -0.7699],\n",
              "         [-0.9189,  0.3277, -0.2226, -2.0172]]])"
            ]
          },
          "metadata": {},
          "execution_count": 14
        }
      ]
    },
    {
      "cell_type": "code",
      "source": [
        "#create tensor out of numpy arr\n",
        "my_tensor = torch.tensor(np1)\n",
        "my_tensor"
      ],
      "metadata": {
        "colab": {
          "base_uri": "https://localhost:8080/"
        },
        "id": "YCal0pfF81sL",
        "outputId": "08e5a065-f61e-4163-ccdf-508488f5b0ad"
      },
      "execution_count": 15,
      "outputs": [
        {
          "output_type": "execute_result",
          "data": {
            "text/plain": [
              "tensor([[0.3042, 0.9956, 0.5664, 0.1157],\n",
              "        [0.7094, 0.6045, 0.1137, 0.8644],\n",
              "        [0.1000, 0.5436, 0.8554, 0.8784]], dtype=torch.float64)"
            ]
          },
          "metadata": {},
          "execution_count": 15
        }
      ]
    },
    {
      "cell_type": "code",
      "source": [
        "my_tensor.dtype"
      ],
      "metadata": {
        "colab": {
          "base_uri": "https://localhost:8080/"
        },
        "id": "neUJEABJ9FLN",
        "outputId": "73d2ebbe-e373-4c59-f777-768392a968c5"
      },
      "execution_count": 16,
      "outputs": [
        {
          "output_type": "execute_result",
          "data": {
            "text/plain": [
              "torch.float64"
            ]
          },
          "metadata": {},
          "execution_count": 16
        }
      ]
    },
    {
      "cell_type": "code",
      "source": [],
      "metadata": {
        "id": "ifD831tq9Ivk"
      },
      "execution_count": null,
      "outputs": []
    }
  ]
}